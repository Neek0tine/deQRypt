{
 "cells": [
  {
   "cell_type": "code",
   "execution_count": 1,
   "metadata": {},
   "outputs": [
    {
     "name": "stdout",
     "output_type": "stream",
     "text": [
      "hello\n"
     ]
    }
   ],
   "source": [
    "print('hello')"
   ]
  },
  {
   "cell_type": "code",
   "execution_count": 2,
   "metadata": {},
   "outputs": [
    {
     "name": "stdout",
     "output_type": "stream",
     "text": [
      "https://github.com/Neek0tine/deqrypt\n",
      "https://github.com/Neek0tine/deqrypt\n",
      "https://github.com/Neek0tine/deqrypt\n",
      "https://github.com/Neek0tine/deqrypt\n",
      "https://github.com/Neek0tine/deqrypt\n",
      "https://github.com/Neek0tine/deqrypt\n",
      "https://github.com/Neek0tine/deqrypt\n",
      "https://github.com/Neek0tine/deqrypt\n",
      "https://github.com/Neek0tine/deqrypt\n",
      "https://github.com/Neek0tine/deqrypt\n",
      "https://github.com/Neek0tine/deqrypt\n",
      "https://github.com/Neek0tine/deqrypt\n",
      "https://github.com/Neek0tine/deqrypt\n",
      "https://github.com/Neek0tine/deqrypt\n",
      "https://github.com/Neek0tine/deqrypt\n",
      "https://github.com/Neek0tine/deqrypt\n",
      "https://github.com/Neek0tine/deqrypt\n",
      "https://github.com/Neek0tine/deqrypt\n",
      "https://github.com/Neek0tine/deqrypt\n"
     ]
    },
    {
     "ename": "KeyboardInterrupt",
     "evalue": "",
     "output_type": "error",
     "traceback": [
      "\u001b[1;31m---------------------------------------------------------------------------\u001b[0m",
      "\u001b[1;31mKeyboardInterrupt\u001b[0m                         Traceback (most recent call last)",
      "Cell \u001b[1;32mIn[2], line 11\u001b[0m\n\u001b[0;32m      8\u001b[0m cap \u001b[38;5;241m=\u001b[39m cv2\u001b[38;5;241m.\u001b[39mVideoCapture(camera_id)\n\u001b[0;32m     10\u001b[0m \u001b[38;5;28;01mwhile\u001b[39;00m \u001b[38;5;28;01mTrue\u001b[39;00m:\n\u001b[1;32m---> 11\u001b[0m     ret, frame \u001b[38;5;241m=\u001b[39m \u001b[43mcap\u001b[49m\u001b[38;5;241;43m.\u001b[39;49m\u001b[43mread\u001b[49m\u001b[43m(\u001b[49m\u001b[43m)\u001b[49m\n\u001b[0;32m     13\u001b[0m     \u001b[38;5;28;01mif\u001b[39;00m ret:\n\u001b[0;32m     14\u001b[0m         ret_qr, decoded_info, points, _ \u001b[38;5;241m=\u001b[39m qcd\u001b[38;5;241m.\u001b[39mdetectAndDecodeMulti(frame)\n",
      "\u001b[1;31mKeyboardInterrupt\u001b[0m: "
     ]
    }
   ],
   "source": [
    "import cv2\n",
    "\n",
    "camera_id = 0\n",
    "delay = 1\n",
    "window_name = 'OpenCV QR Code'\n",
    "\n",
    "qcd = cv2.QRCodeDetector()\n",
    "cap = cv2.VideoCapture(camera_id)\n",
    "\n",
    "while True:\n",
    "    ret, frame = cap.read()\n",
    "\n",
    "    if ret:\n",
    "        ret_qr, decoded_info, points, _ = qcd.detectAndDecodeMulti(frame)\n",
    "        if ret_qr:\n",
    "            for s, p in zip(decoded_info, points):\n",
    "                if s:\n",
    "                    print(s)\n",
    "                    color = (0, 255, 0)\n",
    "                else:\n",
    "                    color = (0, 0, 255)\n",
    "                frame = cv2.polylines(frame, [p.astype(int)], True, color, 8)\n",
    "        cv2.imshow(window_name, frame)\n",
    "\n",
    "    if cv2.waitKey(delay) & 0xFF == ord('q'):\n",
    "        break\n",
    "\n",
    "cv2.destroyAllWindows()"
   ]
  },
  {
   "cell_type": "code",
   "execution_count": 8,
   "metadata": {},
   "outputs": [],
   "source": [
    "cv2.destroyAllWindows()\n",
    "cap.release()\n"
   ]
  },
  {
   "cell_type": "code",
   "execution_count": 3,
   "metadata": {},
   "outputs": [
    {
     "ename": "ModuleNotFoundError",
     "evalue": "No module named 'skimage.morphology.grey'",
     "output_type": "error",
     "traceback": [
      "\u001b[1;31m---------------------------------------------------------------------------\u001b[0m",
      "\u001b[1;31mModuleNotFoundError\u001b[0m                       Traceback (most recent call last)",
      "Cell \u001b[1;32mIn[3], line 2\u001b[0m\n\u001b[0;32m      1\u001b[0m \u001b[38;5;28;01mimport\u001b[39;00m \u001b[38;5;21;01mskimage\u001b[39;00m\n\u001b[1;32m----> 2\u001b[0m \u001b[38;5;28;01mimport\u001b[39;00m \u001b[38;5;21;01mpclines\u001b[39;00m \u001b[38;5;28;01mas\u001b[39;00m \u001b[38;5;21;01mpcl\u001b[39;00m\n",
      "File \u001b[1;32mc:\\Users\\nicho\\PycharmProjects\\deQRypt\\.deqrypt\\Lib\\site-packages\\pclines\\__init__.py:5\u001b[0m\n\u001b[0;32m      1\u001b[0m \u001b[39m\"\"\"\u001b[39;00m\n\u001b[0;32m      2\u001b[0m \u001b[39mPCLines transform for line detection\u001b[39;00m\n\u001b[0;32m      3\u001b[0m \u001b[39m\"\"\"\u001b[39;00m\n\u001b[1;32m----> 5\u001b[0m \u001b[39mfrom\u001b[39;00m \u001b[39m.\u001b[39;00m\u001b[39maccumulator\u001b[39;00m \u001b[39mimport\u001b[39;00m PCLines\n",
      "File \u001b[1;32mc:\\Users\\nicho\\PycharmProjects\\deQRypt\\.deqrypt\\Lib\\site-packages\\pclines\\accumulator.py:17\u001b[0m\n\u001b[0;32m     15\u001b[0m \u001b[39mimport\u001b[39;00m \u001b[39mnumpy\u001b[39;00m \u001b[39mas\u001b[39;00m \u001b[39mnp\u001b[39;00m\n\u001b[0;32m     16\u001b[0m \u001b[39mfrom\u001b[39;00m \u001b[39mskimage\u001b[39;00m\u001b[39m.\u001b[39;00m\u001b[39mfeature\u001b[39;00m \u001b[39mimport\u001b[39;00m peak_local_max\n\u001b[1;32m---> 17\u001b[0m \u001b[39mfrom\u001b[39;00m \u001b[39mskimage\u001b[39;00m\u001b[39m.\u001b[39;00m\u001b[39mmorphology\u001b[39;00m\u001b[39m.\u001b[39;00m\u001b[39mgrey\u001b[39;00m \u001b[39mimport\u001b[39;00m erosion, dilation\n\u001b[0;32m     18\u001b[0m \u001b[39mfrom\u001b[39;00m \u001b[39mskimage\u001b[39;00m\u001b[39m.\u001b[39;00m\u001b[39mmorphology\u001b[39;00m \u001b[39mimport\u001b[39;00m disk\n\u001b[0;32m     20\u001b[0m \u001b[39mfrom\u001b[39;00m \u001b[39m.\u001b[39;00m\u001b[39mrasterizer\u001b[39;00m \u001b[39mimport\u001b[39;00m polys\n",
      "\u001b[1;31mModuleNotFoundError\u001b[0m: No module named 'skimage.morphology.grey'"
     ]
    }
   ],
   "source": [
    "import skimage\n",
    "import pclines as pcl"
   ]
  }
 ],
 "metadata": {
  "kernelspec": {
   "display_name": "Python 3.11.2 ('.deqrypt': venv)",
   "language": "python",
   "name": "python3"
  },
  "language_info": {
   "codemirror_mode": {
    "name": "ipython",
    "version": 3
   },
   "file_extension": ".py",
   "mimetype": "text/x-python",
   "name": "python",
   "nbconvert_exporter": "python",
   "pygments_lexer": "ipython3",
   "version": "3.11.2"
  },
  "orig_nbformat": 4,
  "vscode": {
   "interpreter": {
    "hash": "d120a42d054d14c33d7f525af14945c7f65c952492eb401944072506554dff20"
   }
  }
 },
 "nbformat": 4,
 "nbformat_minor": 2
}
